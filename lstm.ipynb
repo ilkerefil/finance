{
 "cells": [
  {
   "cell_type": "code",
   "execution_count": 309,
   "id": "4bc09442-083c-463b-9e54-6ccad81c2ca5",
   "metadata": {
    "tags": []
   },
   "outputs": [],
   "source": [
    "# veriyi okuma ve önişleme için kullanılacak kütüphaneler\n",
    "import numpy as np\n",
    "import pandas as pd\n",
    "import matplotlib.pyplot as plt\n",
    "import yfinance as yf\n",
    "\n",
    "# model değerlendirme ve veriyi ölçeklendirmek için gerekli kütüphaneler\n",
    "from sklearn.preprocessing import MinMaxScaler\n",
    "from sklearn.metrics import mean_squared_error\n",
    "\n",
    "# modeli kurmak için gerekli kütüphaneler\n",
    "import tensorflow as tf\n",
    "from tensorflow.keras.models import Sequential\n",
    "from tensorflow.keras.layers import LSTM, Dense, Dropout\n",
    "\n",
    "# uyarıları kapatmak için\n",
    "import warnings\n",
    "warnings.filterwarnings(\"ignore\")"
   ]
  },
  {
   "cell_type": "code",
   "execution_count": 310,
   "id": "408b46ba-4760-4a68-a8d3-21a842b19e42",
   "metadata": {
    "tags": []
   },
   "outputs": [
    {
     "name": "stdout",
     "output_type": "stream",
     "text": [
      "[*********************100%%**********************]  1 of 1 completed\n"
     ]
    },
    {
     "data": {
      "text/html": [
       "<div>\n",
       "<style scoped>\n",
       "    .dataframe tbody tr th:only-of-type {\n",
       "        vertical-align: middle;\n",
       "    }\n",
       "\n",
       "    .dataframe tbody tr th {\n",
       "        vertical-align: top;\n",
       "    }\n",
       "\n",
       "    .dataframe thead th {\n",
       "        text-align: right;\n",
       "    }\n",
       "</style>\n",
       "<table border=\"1\" class=\"dataframe\">\n",
       "  <thead>\n",
       "    <tr style=\"text-align: right;\">\n",
       "      <th></th>\n",
       "      <th>Open</th>\n",
       "      <th>High</th>\n",
       "      <th>Low</th>\n",
       "      <th>Close</th>\n",
       "      <th>Adj Close</th>\n",
       "      <th>Volume</th>\n",
       "    </tr>\n",
       "    <tr>\n",
       "      <th>Date</th>\n",
       "      <th></th>\n",
       "      <th></th>\n",
       "      <th></th>\n",
       "      <th></th>\n",
       "      <th></th>\n",
       "      <th></th>\n",
       "    </tr>\n",
       "  </thead>\n",
       "  <tbody>\n",
       "    <tr>\n",
       "      <th>2013-12-02</th>\n",
       "      <td>26.614365</td>\n",
       "      <td>26.685434</td>\n",
       "      <td>26.295296</td>\n",
       "      <td>26.388388</td>\n",
       "      <td>26.388388</td>\n",
       "      <td>54873072</td>\n",
       "    </tr>\n",
       "    <tr>\n",
       "      <th>2013-12-03</th>\n",
       "      <td>26.300051</td>\n",
       "      <td>26.612614</td>\n",
       "      <td>26.251753</td>\n",
       "      <td>26.357859</td>\n",
       "      <td>26.357859</td>\n",
       "      <td>66976956</td>\n",
       "    </tr>\n",
       "    <tr>\n",
       "      <th>2013-12-04</th>\n",
       "      <td>26.310560</td>\n",
       "      <td>26.626125</td>\n",
       "      <td>26.276276</td>\n",
       "      <td>26.480982</td>\n",
       "      <td>26.480982</td>\n",
       "      <td>47616336</td>\n",
       "    </tr>\n",
       "    <tr>\n",
       "      <th>2013-12-05</th>\n",
       "      <td>26.456455</td>\n",
       "      <td>26.518019</td>\n",
       "      <td>26.303555</td>\n",
       "      <td>26.459961</td>\n",
       "      <td>26.459961</td>\n",
       "      <td>45302652</td>\n",
       "    </tr>\n",
       "    <tr>\n",
       "      <th>2013-12-06</th>\n",
       "      <td>26.771523</td>\n",
       "      <td>26.776777</td>\n",
       "      <td>26.528528</td>\n",
       "      <td>26.773523</td>\n",
       "      <td>26.773523</td>\n",
       "      <td>57094848</td>\n",
       "    </tr>\n",
       "    <tr>\n",
       "      <th>...</th>\n",
       "      <td>...</td>\n",
       "      <td>...</td>\n",
       "      <td>...</td>\n",
       "      <td>...</td>\n",
       "      <td>...</td>\n",
       "      <td>...</td>\n",
       "    </tr>\n",
       "    <tr>\n",
       "      <th>2023-11-24</th>\n",
       "      <td>138.029999</td>\n",
       "      <td>138.130005</td>\n",
       "      <td>135.990005</td>\n",
       "      <td>136.690002</td>\n",
       "      <td>136.690002</td>\n",
       "      <td>12514300</td>\n",
       "    </tr>\n",
       "    <tr>\n",
       "      <th>2023-11-27</th>\n",
       "      <td>136.029999</td>\n",
       "      <td>138.419998</td>\n",
       "      <td>136.000000</td>\n",
       "      <td>136.410004</td>\n",
       "      <td>136.410004</td>\n",
       "      <td>23436500</td>\n",
       "    </tr>\n",
       "    <tr>\n",
       "      <th>2023-11-28</th>\n",
       "      <td>136.080002</td>\n",
       "      <td>137.250000</td>\n",
       "      <td>135.419998</td>\n",
       "      <td>137.199997</td>\n",
       "      <td>137.199997</td>\n",
       "      <td>18730000</td>\n",
       "    </tr>\n",
       "    <tr>\n",
       "      <th>2023-11-29</th>\n",
       "      <td>137.570007</td>\n",
       "      <td>138.289993</td>\n",
       "      <td>134.839996</td>\n",
       "      <td>134.990005</td>\n",
       "      <td>134.990005</td>\n",
       "      <td>23967200</td>\n",
       "    </tr>\n",
       "    <tr>\n",
       "      <th>2023-11-30</th>\n",
       "      <td>135.050003</td>\n",
       "      <td>135.550003</td>\n",
       "      <td>131.279999</td>\n",
       "      <td>132.529999</td>\n",
       "      <td>132.529999</td>\n",
       "      <td>38988300</td>\n",
       "    </tr>\n",
       "  </tbody>\n",
       "</table>\n",
       "<p>2517 rows × 6 columns</p>\n",
       "</div>"
      ],
      "text/plain": [
       "                  Open        High         Low       Close   Adj Close  \\\n",
       "Date                                                                     \n",
       "2013-12-02   26.614365   26.685434   26.295296   26.388388   26.388388   \n",
       "2013-12-03   26.300051   26.612614   26.251753   26.357859   26.357859   \n",
       "2013-12-04   26.310560   26.626125   26.276276   26.480982   26.480982   \n",
       "2013-12-05   26.456455   26.518019   26.303555   26.459961   26.459961   \n",
       "2013-12-06   26.771523   26.776777   26.528528   26.773523   26.773523   \n",
       "...                ...         ...         ...         ...         ...   \n",
       "2023-11-24  138.029999  138.130005  135.990005  136.690002  136.690002   \n",
       "2023-11-27  136.029999  138.419998  136.000000  136.410004  136.410004   \n",
       "2023-11-28  136.080002  137.250000  135.419998  137.199997  137.199997   \n",
       "2023-11-29  137.570007  138.289993  134.839996  134.990005  134.990005   \n",
       "2023-11-30  135.050003  135.550003  131.279999  132.529999  132.529999   \n",
       "\n",
       "              Volume  \n",
       "Date                  \n",
       "2013-12-02  54873072  \n",
       "2013-12-03  66976956  \n",
       "2013-12-04  47616336  \n",
       "2013-12-05  45302652  \n",
       "2013-12-06  57094848  \n",
       "...              ...  \n",
       "2023-11-24  12514300  \n",
       "2023-11-27  23436500  \n",
       "2023-11-28  18730000  \n",
       "2023-11-29  23967200  \n",
       "2023-11-30  38988300  \n",
       "\n",
       "[2517 rows x 6 columns]"
      ]
     },
     "execution_count": 310,
     "metadata": {},
     "output_type": "execute_result"
    }
   ],
   "source": [
    "start_date = \"2013-12-01\"\n",
    "end_date = \"2023-12-01\"\n",
    "symbol = \"GOOGL\"\n",
    "data_stock = yf.download(tickers = symbol, start = start_date, end = end_date)\n",
    "df = data_stock.copy()\n",
    "df"
   ]
  },
  {
   "cell_type": "code",
   "execution_count": 311,
   "id": "6945fbbb-876d-4266-814b-7e3c7f8a27ca",
   "metadata": {
    "tags": []
   },
   "outputs": [
    {
     "name": "stdout",
     "output_type": "stream",
     "text": [
      "<class 'pandas.core.frame.DataFrame'>\n",
      "DatetimeIndex: 2517 entries, 2013-12-02 to 2023-11-30\n",
      "Data columns (total 6 columns):\n",
      " #   Column     Non-Null Count  Dtype  \n",
      "---  ------     --------------  -----  \n",
      " 0   Open       2517 non-null   float64\n",
      " 1   High       2517 non-null   float64\n",
      " 2   Low        2517 non-null   float64\n",
      " 3   Close      2517 non-null   float64\n",
      " 4   Adj Close  2517 non-null   float64\n",
      " 5   Volume     2517 non-null   int64  \n",
      "dtypes: float64(5), int64(1)\n",
      "memory usage: 137.6 KB\n"
     ]
    }
   ],
   "source": [
    "df.info()"
   ]
  },
  {
   "cell_type": "code",
   "execution_count": 312,
   "id": "4562645f-ca1a-4f60-b7fd-db424aae6ad4",
   "metadata": {
    "tags": []
   },
   "outputs": [
    {
     "data": {
      "text/html": [
       "<div>\n",
       "<style scoped>\n",
       "    .dataframe tbody tr th:only-of-type {\n",
       "        vertical-align: middle;\n",
       "    }\n",
       "\n",
       "    .dataframe tbody tr th {\n",
       "        vertical-align: top;\n",
       "    }\n",
       "\n",
       "    .dataframe thead th {\n",
       "        text-align: right;\n",
       "    }\n",
       "</style>\n",
       "<table border=\"1\" class=\"dataframe\">\n",
       "  <thead>\n",
       "    <tr style=\"text-align: right;\">\n",
       "      <th></th>\n",
       "      <th>count</th>\n",
       "      <th>mean</th>\n",
       "      <th>std</th>\n",
       "      <th>min</th>\n",
       "      <th>25%</th>\n",
       "      <th>50%</th>\n",
       "      <th>75%</th>\n",
       "      <th>max</th>\n",
       "    </tr>\n",
       "  </thead>\n",
       "  <tbody>\n",
       "    <tr>\n",
       "      <th>Open</th>\n",
       "      <td>2517.0</td>\n",
       "      <td>6.825195e+01</td>\n",
       "      <td>3.631865e+01</td>\n",
       "      <td>2.496200e+01</td>\n",
       "      <td>3.821350e+01</td>\n",
       "      <td>5.665000e+01</td>\n",
       "      <td>9.743000e+01</td>\n",
       "      <td>1.512500e+02</td>\n",
       "    </tr>\n",
       "    <tr>\n",
       "      <th>High</th>\n",
       "      <td>2517.0</td>\n",
       "      <td>6.897144e+01</td>\n",
       "      <td>3.676305e+01</td>\n",
       "      <td>2.501400e+01</td>\n",
       "      <td>3.845400e+01</td>\n",
       "      <td>5.729350e+01</td>\n",
       "      <td>9.928000e+01</td>\n",
       "      <td>1.515465e+02</td>\n",
       "    </tr>\n",
       "    <tr>\n",
       "      <th>Low</th>\n",
       "      <td>2517.0</td>\n",
       "      <td>6.754240e+01</td>\n",
       "      <td>3.589932e+01</td>\n",
       "      <td>2.454550e+01</td>\n",
       "      <td>3.785250e+01</td>\n",
       "      <td>5.615600e+01</td>\n",
       "      <td>9.640000e+01</td>\n",
       "      <td>1.488990e+02</td>\n",
       "    </tr>\n",
       "    <tr>\n",
       "      <th>Close</th>\n",
       "      <td>2517.0</td>\n",
       "      <td>6.827479e+01</td>\n",
       "      <td>3.633478e+01</td>\n",
       "      <td>2.485300e+01</td>\n",
       "      <td>3.812700e+01</td>\n",
       "      <td>5.672100e+01</td>\n",
       "      <td>9.756000e+01</td>\n",
       "      <td>1.498385e+02</td>\n",
       "    </tr>\n",
       "    <tr>\n",
       "      <th>Adj Close</th>\n",
       "      <td>2517.0</td>\n",
       "      <td>6.827479e+01</td>\n",
       "      <td>3.633478e+01</td>\n",
       "      <td>2.485300e+01</td>\n",
       "      <td>3.812700e+01</td>\n",
       "      <td>5.672100e+01</td>\n",
       "      <td>9.756000e+01</td>\n",
       "      <td>1.498385e+02</td>\n",
       "    </tr>\n",
       "    <tr>\n",
       "      <th>Volume</th>\n",
       "      <td>2517.0</td>\n",
       "      <td>3.804201e+07</td>\n",
       "      <td>2.015947e+07</td>\n",
       "      <td>9.312000e+06</td>\n",
       "      <td>2.610800e+07</td>\n",
       "      <td>3.245800e+07</td>\n",
       "      <td>4.279720e+07</td>\n",
       "      <td>2.571620e+08</td>\n",
       "    </tr>\n",
       "  </tbody>\n",
       "</table>\n",
       "</div>"
      ],
      "text/plain": [
       "            count          mean           std           min           25%  \\\n",
       "Open       2517.0  6.825195e+01  3.631865e+01  2.496200e+01  3.821350e+01   \n",
       "High       2517.0  6.897144e+01  3.676305e+01  2.501400e+01  3.845400e+01   \n",
       "Low        2517.0  6.754240e+01  3.589932e+01  2.454550e+01  3.785250e+01   \n",
       "Close      2517.0  6.827479e+01  3.633478e+01  2.485300e+01  3.812700e+01   \n",
       "Adj Close  2517.0  6.827479e+01  3.633478e+01  2.485300e+01  3.812700e+01   \n",
       "Volume     2517.0  3.804201e+07  2.015947e+07  9.312000e+06  2.610800e+07   \n",
       "\n",
       "                    50%           75%           max  \n",
       "Open       5.665000e+01  9.743000e+01  1.512500e+02  \n",
       "High       5.729350e+01  9.928000e+01  1.515465e+02  \n",
       "Low        5.615600e+01  9.640000e+01  1.488990e+02  \n",
       "Close      5.672100e+01  9.756000e+01  1.498385e+02  \n",
       "Adj Close  5.672100e+01  9.756000e+01  1.498385e+02  \n",
       "Volume     3.245800e+07  4.279720e+07  2.571620e+08  "
      ]
     },
     "execution_count": 312,
     "metadata": {},
     "output_type": "execute_result"
    }
   ],
   "source": [
    "df.describe().T"
   ]
  },
  {
   "cell_type": "code",
   "execution_count": 313,
   "id": "7c255cd5-1b3c-49e5-8672-4f70668e69d2",
   "metadata": {
    "tags": []
   },
   "outputs": [
    {
     "data": {
      "text/plain": [
       "Open         0\n",
       "High         0\n",
       "Low          0\n",
       "Close        0\n",
       "Adj Close    0\n",
       "Volume       0\n",
       "dtype: int64"
      ]
     },
     "execution_count": 313,
     "metadata": {},
     "output_type": "execute_result"
    }
   ],
   "source": [
    "#eksik değer?\n",
    "df.isnull().sum()"
   ]
  },
  {
   "cell_type": "code",
   "execution_count": 314,
   "id": "4262ba18-a0ef-41b5-ac92-aebd6e80da1a",
   "metadata": {
    "tags": []
   },
   "outputs": [],
   "source": [
    "googl_df = df[[\"Close\"]]"
   ]
  },
  {
   "cell_type": "code",
   "execution_count": 315,
   "id": "3b3d59f8-2bff-4451-b87b-25b954969f6c",
   "metadata": {
    "tags": []
   },
   "outputs": [
    {
     "data": {
      "image/png": "[encoded data removed]",
      "text/plain": [
       "<Figure size 1200x600 with 1 Axes>"
      ]
     },
     "metadata": {},
     "output_type": "display_data"
    }
   ],
   "source": [
    "plt.figure(figsize=(12,6))\n",
    "plt.plot(googl_df.Close, color = \"green\");\n",
    "plt.xlabel(\"Zaman\")\n",
    "plt.ylabel(\"Fiyat\")\n",
    "plt.title(\"Google Hisse Fiyatı\")\n",
    "plt.show()"
   ]
  },
  {
   "cell_type": "code",
   "execution_count": 316,
   "id": "4a54f49b-4590-45e7-9b57-64c934d0e0af",
   "metadata": {
    "tags": []
   },
   "outputs": [
    {
     "data": {
      "text/plain": [
       "dtype('float64')"
      ]
     },
     "execution_count": 316,
     "metadata": {},
     "output_type": "execute_result"
    }
   ],
   "source": [
    "googl_df[\"Close\"].dtype"
   ]
  },
  {
   "cell_type": "code",
   "execution_count": 317,
   "id": "4674c74b-1673-43af-af67-b91cf25075d4",
   "metadata": {
    "tags": []
   },
   "outputs": [],
   "source": [
    "googl_df = googl_df.values"
   ]
  },
  {
   "cell_type": "code",
   "execution_count": 318,
   "id": "dd23a2da-4f7c-49f0-bd34-91c03d76f576",
   "metadata": {
    "tags": []
   },
   "outputs": [],
   "source": [
    "googl_df = googl_df.astype(\"float32\")"
   ]
  },
  {
   "cell_type": "code",
   "execution_count": 319,
   "id": "3fc225c8-b35b-4582-a677-634f4d5ff58c",
   "metadata": {
    "tags": []
   },
   "outputs": [
    {
     "data": {
      "text/plain": [
       "dtype('float32')"
      ]
     },
     "execution_count": 319,
     "metadata": {},
     "output_type": "execute_result"
    }
   ],
   "source": [
    "googl_df.dtype"
   ]
  },
  {
   "cell_type": "code",
   "execution_count": 320,
   "id": "58f190f5-808a-4b7b-a37d-d637f34141e2",
   "metadata": {
    "tags": []
   },
   "outputs": [],
   "source": [
    "i = int(round(len(googl_df) * (0.70)))\n",
    "train = googl_df[:i]\n",
    "test = googl_df[i:]"
   ]
  },
  {
   "cell_type": "code",
   "execution_count": 321,
   "id": "7b6d08c0-c43a-4e25-94cc-fb86ec881d09",
   "metadata": {
    "tags": []
   },
   "outputs": [
    {
     "data": {
      "text/plain": [
       "1762"
      ]
     },
     "execution_count": 321,
     "metadata": {},
     "output_type": "execute_result"
    }
   ],
   "source": [
    "i"
   ]
  },
  {
   "cell_type": "code",
   "execution_count": 322,
   "id": "11496573-b7b5-40be-a51f-a19558dce70a",
   "metadata": {
    "tags": []
   },
   "outputs": [
    {
     "name": "stdout",
     "output_type": "stream",
     "text": [
      "train (1762, 1) test (755, 1)\n"
     ]
    }
   ],
   "source": [
    "print(\"train\", train.shape, \n",
    "      \"test\", test.shape)"
   ]
  },
  {
   "cell_type": "code",
   "execution_count": 323,
   "id": "2611e561-84d4-4909-8c44-d98ce457249b",
   "metadata": {
    "tags": []
   },
   "outputs": [],
   "source": [
    "scaler = MinMaxScaler(feature_range=(0,1))\n",
    "train = scaler.fit_transform(train)\n",
    "test = scaler.fit_transform(test)"
   ]
  },
  {
   "cell_type": "code",
   "execution_count": 324,
   "id": "6967a1e5-9fca-47e0-9355-7adb13f1bc5d",
   "metadata": {
    "tags": []
   },
   "outputs": [
    {
     "data": {
      "text/html": [
       "<div>\n",
       "<style scoped>\n",
       "    .dataframe tbody tr th:only-of-type {\n",
       "        vertical-align: middle;\n",
       "    }\n",
       "\n",
       "    .dataframe tbody tr th {\n",
       "        vertical-align: top;\n",
       "    }\n",
       "\n",
       "    .dataframe thead th {\n",
       "        text-align: right;\n",
       "    }\n",
       "</style>\n",
       "<table border=\"1\" class=\"dataframe\">\n",
       "  <thead>\n",
       "    <tr style=\"text-align: right;\">\n",
       "      <th></th>\n",
       "      <th>Open</th>\n",
       "      <th>High</th>\n",
       "      <th>Low</th>\n",
       "      <th>Close</th>\n",
       "      <th>Adj Close</th>\n",
       "      <th>Volume</th>\n",
       "    </tr>\n",
       "    <tr>\n",
       "      <th>Date</th>\n",
       "      <th></th>\n",
       "      <th></th>\n",
       "      <th></th>\n",
       "      <th></th>\n",
       "      <th></th>\n",
       "      <th></th>\n",
       "    </tr>\n",
       "  </thead>\n",
       "  <tbody>\n",
       "    <tr>\n",
       "      <th>2013-12-02</th>\n",
       "      <td>26.614365</td>\n",
       "      <td>26.685434</td>\n",
       "      <td>26.295296</td>\n",
       "      <td>26.388388</td>\n",
       "      <td>26.388388</td>\n",
       "      <td>54873072</td>\n",
       "    </tr>\n",
       "    <tr>\n",
       "      <th>2013-12-03</th>\n",
       "      <td>26.300051</td>\n",
       "      <td>26.612614</td>\n",
       "      <td>26.251753</td>\n",
       "      <td>26.357859</td>\n",
       "      <td>26.357859</td>\n",
       "      <td>66976956</td>\n",
       "    </tr>\n",
       "    <tr>\n",
       "      <th>2013-12-04</th>\n",
       "      <td>26.310560</td>\n",
       "      <td>26.626125</td>\n",
       "      <td>26.276276</td>\n",
       "      <td>26.480982</td>\n",
       "      <td>26.480982</td>\n",
       "      <td>47616336</td>\n",
       "    </tr>\n",
       "    <tr>\n",
       "      <th>2013-12-05</th>\n",
       "      <td>26.456455</td>\n",
       "      <td>26.518019</td>\n",
       "      <td>26.303555</td>\n",
       "      <td>26.459961</td>\n",
       "      <td>26.459961</td>\n",
       "      <td>45302652</td>\n",
       "    </tr>\n",
       "    <tr>\n",
       "      <th>2013-12-06</th>\n",
       "      <td>26.771523</td>\n",
       "      <td>26.776777</td>\n",
       "      <td>26.528528</td>\n",
       "      <td>26.773523</td>\n",
       "      <td>26.773523</td>\n",
       "      <td>57094848</td>\n",
       "    </tr>\n",
       "    <tr>\n",
       "      <th>...</th>\n",
       "      <td>...</td>\n",
       "      <td>...</td>\n",
       "      <td>...</td>\n",
       "      <td>...</td>\n",
       "      <td>...</td>\n",
       "      <td>...</td>\n",
       "    </tr>\n",
       "    <tr>\n",
       "      <th>2020-11-23</th>\n",
       "      <td>87.011002</td>\n",
       "      <td>87.299500</td>\n",
       "      <td>85.509003</td>\n",
       "      <td>86.377998</td>\n",
       "      <td>86.377998</td>\n",
       "      <td>22530000</td>\n",
       "    </tr>\n",
       "    <tr>\n",
       "      <th>2020-11-24</th>\n",
       "      <td>86.375000</td>\n",
       "      <td>88.323997</td>\n",
       "      <td>86.036499</td>\n",
       "      <td>88.195000</td>\n",
       "      <td>88.195000</td>\n",
       "      <td>27984000</td>\n",
       "    </tr>\n",
       "    <tr>\n",
       "      <th>2020-11-25</th>\n",
       "      <td>88.390503</td>\n",
       "      <td>88.518997</td>\n",
       "      <td>87.417999</td>\n",
       "      <td>88.206497</td>\n",
       "      <td>88.206497</td>\n",
       "      <td>19600000</td>\n",
       "    </tr>\n",
       "    <tr>\n",
       "      <th>2020-11-27</th>\n",
       "      <td>88.226997</td>\n",
       "      <td>89.850502</td>\n",
       "      <td>88.226997</td>\n",
       "      <td>89.350998</td>\n",
       "      <td>89.350998</td>\n",
       "      <td>14790000</td>\n",
       "    </tr>\n",
       "    <tr>\n",
       "      <th>2020-11-30</th>\n",
       "      <td>88.782501</td>\n",
       "      <td>89.016998</td>\n",
       "      <td>87.391998</td>\n",
       "      <td>87.720001</td>\n",
       "      <td>87.720001</td>\n",
       "      <td>32418000</td>\n",
       "    </tr>\n",
       "  </tbody>\n",
       "</table>\n",
       "<p>1762 rows × 6 columns</p>\n",
       "</div>"
      ],
      "text/plain": [
       "                 Open       High        Low      Close  Adj Close    Volume\n",
       "Date                                                                       \n",
       "2013-12-02  26.614365  26.685434  26.295296  26.388388  26.388388  54873072\n",
       "2013-12-03  26.300051  26.612614  26.251753  26.357859  26.357859  66976956\n",
       "2013-12-04  26.310560  26.626125  26.276276  26.480982  26.480982  47616336\n",
       "2013-12-05  26.456455  26.518019  26.303555  26.459961  26.459961  45302652\n",
       "2013-12-06  26.771523  26.776777  26.528528  26.773523  26.773523  57094848\n",
       "...               ...        ...        ...        ...        ...       ...\n",
       "2020-11-23  87.011002  87.299500  85.509003  86.377998  86.377998  22530000\n",
       "2020-11-24  86.375000  88.323997  86.036499  88.195000  88.195000  27984000\n",
       "2020-11-25  88.390503  88.518997  87.417999  88.206497  88.206497  19600000\n",
       "2020-11-27  88.226997  89.850502  88.226997  89.350998  89.350998  14790000\n",
       "2020-11-30  88.782501  89.016998  87.391998  87.720001  87.720001  32418000\n",
       "\n",
       "[1762 rows x 6 columns]"
      ]
     },
     "execution_count": 324,
     "metadata": {},
     "output_type": "execute_result"
    }
   ],
   "source": [
    "df[:1762]"
   ]
  },
  {
   "cell_type": "code",
   "execution_count": 325,
   "id": "8ded1a50-59ca-436c-a8b6-e2a4733f219c",
   "metadata": {
    "tags": []
   },
   "outputs": [
    {
     "data": {
      "text/plain": [
       "array([[0.0238052 ],\n",
       "       [0.02333185],\n",
       "       [0.02524081],\n",
       "       ...,\n",
       "       [0.98225516],\n",
       "       [0.99999994],\n",
       "       [0.97471243]], dtype=float32)"
      ]
     },
     "execution_count": 325,
     "metadata": {},
     "output_type": "execute_result"
    }
   ],
   "source": [
    "train"
   ]
  },
  {
   "cell_type": "code",
   "execution_count": 326,
   "id": "4294a904-3434-420e-90e9-6b724d6333f4",
   "metadata": {},
   "outputs": [],
   "source": [
    "def create_features(veri, timesteps):\n",
    "    X,Y = [], []\n",
    "    for i in range(timesteps, len(veri)):\n",
    "        X.append(veri[i-timesteps:i,0])\n",
    "        Y.append(veri[i,0])\n",
    "    \n",
    "    return np.array(X), np.array(Y)\n",
    "\n",
    "timesteps = 30"
   ]
  },
  {
   "cell_type": "code",
   "execution_count": 327,
   "id": "98f58348-d0c5-4055-8977-39dc56077ce9",
   "metadata": {
    "tags": []
   },
   "outputs": [],
   "source": [
    "X_train, y_train = create_features(train, timesteps)\n",
    "X_test, y_test = create_features(test, timesteps)"
   ]
  },
  {
   "cell_type": "code",
   "execution_count": 328,
   "id": "225d63ac-8ba0-46b0-8dde-bcaada22b687",
   "metadata": {
    "tags": []
   },
   "outputs": [],
   "source": [
    "X_train = np.reshape(X_train, (X_train.shape[0], 1, X_train.shape[1]))\n",
    "X_test = np.reshape(X_test, (X_test.shape[0], 1, X_test.shape[1]))\n",
    "y_train = y_train.reshape(-1,1)\n",
    "y_test = y_test.reshape(-1,1)"
   ]
  },
  {
   "cell_type": "code",
   "execution_count": 329,
   "id": "0823af52-f896-44eb-8f88-1db3577e2f8f",
   "metadata": {
    "tags": []
   },
   "outputs": [],
   "source": [
    "#modelleme"
   ]
  },
  {
   "cell_type": "code",
   "execution_count": 330,
   "id": "1a89ba6d-1e42-49b7-8160-db698e3780a7",
   "metadata": {
    "tags": []
   },
   "outputs": [],
   "source": [
    "model = Sequential()\n",
    "\n",
    "model.add(LSTM(units=128,\n",
    "               activation=\"tanh\",\n",
    "               return_sequences = True,\n",
    "               input_shape=(1, 30)))\n",
    "model.add(Dropout(0.2))\n",
    "\n",
    "model.add(LSTM(units=128,\n",
    "               activation=\"tanh\",\n",
    "               return_sequences = True))\n",
    "model.add(Dropout(0.2))          \n",
    "\n",
    "model.add(LSTM(units=128, \n",
    "               activation=\"tanh\",\n",
    "               return_sequences = False))\n",
    "model.add(Dropout(0.2))\n",
    "\n",
    "model.add(Dense(units=1))"
   ]
  },
  {
   "cell_type": "code",
   "execution_count": 331,
   "id": "be2c1325-edc0-479b-98db-2aefe85ea908",
   "metadata": {
    "tags": []
   },
   "outputs": [
    {
     "name": "stdout",
     "output_type": "stream",
     "text": [
      "Epoch 1/100\n",
      "87/87 [==============================] - 7s 5ms/step - loss: 0.0224\n",
      "Epoch 2/100\n",
      "87/87 [==============================] - 0s 5ms/step - loss: 0.0033\n",
      "Epoch 3/100\n",
      "87/87 [==============================] - 1s 6ms/step - loss: 0.0029\n",
      "Epoch 4/100\n",
      "87/87 [==============================] - 0s 6ms/step - loss: 0.0024\n",
      "Epoch 5/100\n",
      "87/87 [==============================] - 0s 6ms/step - loss: 0.0020\n",
      "Epoch 6/100\n",
      "87/87 [==============================] - 0s 5ms/step - loss: 0.0016\n",
      "Epoch 7/100\n",
      "87/87 [==============================] - 0s 6ms/step - loss: 0.0016\n",
      "Epoch 8/100\n",
      "87/87 [==============================] - 0s 6ms/step - loss: 0.0016\n",
      "Epoch 9/100\n",
      "87/87 [==============================] - 0s 6ms/step - loss: 0.0015\n",
      "Epoch 10/100\n",
      "87/87 [==============================] - 0s 5ms/step - loss: 0.0016\n",
      "Epoch 11/100\n",
      "87/87 [==============================] - 1s 6ms/step - loss: 0.0015\n",
      "Epoch 12/100\n",
      "87/87 [==============================] - 0s 6ms/step - loss: 0.0016\n",
      "Epoch 13/100\n",
      "87/87 [==============================] - 0s 5ms/step - loss: 0.0013\n",
      "Epoch 14/100\n",
      "87/87 [==============================] - 0s 6ms/step - loss: 0.0012\n",
      "Epoch 15/100\n",
      "87/87 [==============================] - 0s 6ms/step - loss: 0.0012\n",
      "Epoch 16/100\n",
      "87/87 [==============================] - 0s 5ms/step - loss: 0.0010\n",
      "Epoch 17/100\n",
      "87/87 [==============================] - 0s 5ms/step - loss: 0.0011\n",
      "Epoch 18/100\n",
      "87/87 [==============================] - 0s 6ms/step - loss: 0.0014\n",
      "Epoch 19/100\n",
      "87/87 [==============================] - 1s 6ms/step - loss: 0.0010\n",
      "Epoch 20/100\n",
      "87/87 [==============================] - 1s 6ms/step - loss: 9.8062e-04\n",
      "Epoch 21/100\n",
      "87/87 [==============================] - 0s 5ms/step - loss: 0.0010\n",
      "Epoch 22/100\n",
      "87/87 [==============================] - 0s 5ms/step - loss: 0.0010\n",
      "Epoch 23/100\n",
      "87/87 [==============================] - 0s 5ms/step - loss: 0.0011\n",
      "Epoch 24/100\n",
      "87/87 [==============================] - 0s 6ms/step - loss: 9.3553e-04\n",
      "Epoch 25/100\n",
      "87/87 [==============================] - 0s 5ms/step - loss: 9.4208e-04\n",
      "Epoch 26/100\n",
      "87/87 [==============================] - 0s 5ms/step - loss: 0.0010\n",
      "Epoch 27/100\n",
      "87/87 [==============================] - 0s 5ms/step - loss: 9.5499e-04\n",
      "Epoch 28/100\n",
      "87/87 [==============================] - 1s 6ms/step - loss: 9.2878e-04\n",
      "Epoch 29/100\n",
      "87/87 [==============================] - 1s 6ms/step - loss: 9.5105e-04\n",
      "Epoch 30/100\n",
      "87/87 [==============================] - 0s 5ms/step - loss: 0.0012\n",
      "Epoch 31/100\n",
      "87/87 [==============================] - 0s 6ms/step - loss: 9.3318e-04\n",
      "Epoch 32/100\n",
      "87/87 [==============================] - 0s 5ms/step - loss: 7.9254e-04\n",
      "Epoch 33/100\n",
      "87/87 [==============================] - 0s 5ms/step - loss: 9.4289e-04\n",
      "Epoch 34/100\n",
      "87/87 [==============================] - 0s 6ms/step - loss: 8.3275e-04\n",
      "Epoch 35/100\n",
      "87/87 [==============================] - 0s 5ms/step - loss: 9.6673e-04\n",
      "Epoch 36/100\n",
      "87/87 [==============================] - 0s 5ms/step - loss: 8.6978e-04\n",
      "Epoch 37/100\n",
      "87/87 [==============================] - 0s 6ms/step - loss: 8.4830e-04\n",
      "Epoch 38/100\n",
      "87/87 [==============================] - 0s 5ms/step - loss: 8.6725e-04\n",
      "Epoch 39/100\n",
      "87/87 [==============================] - 0s 5ms/step - loss: 8.1765e-04\n",
      "Epoch 40/100\n",
      "87/87 [==============================] - 0s 5ms/step - loss: 9.0024e-04\n",
      "Epoch 41/100\n",
      "87/87 [==============================] - 0s 6ms/step - loss: 8.0787e-04\n",
      "Epoch 42/100\n",
      "87/87 [==============================] - 0s 5ms/step - loss: 9.2894e-04\n",
      "Epoch 43/100\n",
      "87/87 [==============================] - 1s 6ms/step - loss: 8.2798e-04\n",
      "Epoch 44/100\n",
      "87/87 [==============================] - 0s 6ms/step - loss: 7.0798e-04\n",
      "Epoch 45/100\n",
      "87/87 [==============================] - 0s 6ms/step - loss: 8.8353e-04\n",
      "Epoch 46/100\n",
      "87/87 [==============================] - 0s 5ms/step - loss: 7.6141e-04\n",
      "Epoch 47/100\n",
      "87/87 [==============================] - 0s 5ms/step - loss: 8.0364e-04\n",
      "Epoch 48/100\n",
      "87/87 [==============================] - 0s 6ms/step - loss: 7.4533e-04\n",
      "Epoch 49/100\n",
      "87/87 [==============================] - 0s 5ms/step - loss: 0.0012\n",
      "Epoch 50/100\n",
      "87/87 [==============================] - 0s 6ms/step - loss: 7.7833e-04\n",
      "Epoch 51/100\n",
      "87/87 [==============================] - 1s 6ms/step - loss: 7.7174e-04\n",
      "Epoch 52/100\n",
      "87/87 [==============================] - 1s 6ms/step - loss: 7.1924e-04\n",
      "Epoch 53/100\n",
      "87/87 [==============================] - 1s 6ms/step - loss: 7.2455e-04\n",
      "Epoch 54/100\n",
      "87/87 [==============================] - 0s 6ms/step - loss: 0.0011\n",
      "Epoch 55/100\n",
      "87/87 [==============================] - 1s 6ms/step - loss: 8.2397e-04\n",
      "Epoch 56/100\n",
      "87/87 [==============================] - 1s 7ms/step - loss: 7.9522e-04\n",
      "Epoch 57/100\n",
      "87/87 [==============================] - 0s 6ms/step - loss: 7.2683e-04\n",
      "Epoch 58/100\n",
      "87/87 [==============================] - 0s 5ms/step - loss: 7.7776e-04\n",
      "Epoch 59/100\n",
      "87/87 [==============================] - 0s 6ms/step - loss: 7.4012e-04\n",
      "Epoch 60/100\n",
      "87/87 [==============================] - 0s 6ms/step - loss: 7.1884e-04\n",
      "Epoch 61/100\n",
      "87/87 [==============================] - 1s 6ms/step - loss: 7.4011e-04\n",
      "Epoch 62/100\n",
      "87/87 [==============================] - 0s 5ms/step - loss: 6.0281e-04\n",
      "Epoch 63/100\n",
      "87/87 [==============================] - 1s 6ms/step - loss: 9.5814e-04\n",
      "Epoch 64/100\n",
      "87/87 [==============================] - 0s 5ms/step - loss: 9.4353e-04\n",
      "Epoch 65/100\n",
      "87/87 [==============================] - 0s 6ms/step - loss: 7.7718e-04\n",
      "Epoch 66/100\n",
      "87/87 [==============================] - 0s 5ms/step - loss: 6.7346e-04\n",
      "Epoch 67/100\n",
      "87/87 [==============================] - 0s 6ms/step - loss: 8.2571e-04\n",
      "Epoch 68/100\n",
      "87/87 [==============================] - 1s 6ms/step - loss: 7.9349e-04\n",
      "Epoch 69/100\n",
      "87/87 [==============================] - 0s 6ms/step - loss: 8.1861e-04\n",
      "Epoch 70/100\n",
      "87/87 [==============================] - 0s 6ms/step - loss: 7.4922e-04\n",
      "Epoch 71/100\n",
      "87/87 [==============================] - 1s 6ms/step - loss: 7.7756e-04\n",
      "Epoch 72/100\n",
      "87/87 [==============================] - 0s 6ms/step - loss: 7.0281e-04\n",
      "Epoch 73/100\n",
      "87/87 [==============================] - 0s 6ms/step - loss: 7.4708e-04\n",
      "Epoch 74/100\n",
      "87/87 [==============================] - 0s 6ms/step - loss: 6.8659e-04\n",
      "Epoch 75/100\n",
      "87/87 [==============================] - 0s 6ms/step - loss: 7.0926e-04\n",
      "Epoch 76/100\n",
      "87/87 [==============================] - 0s 6ms/step - loss: 8.4744e-04\n",
      "Epoch 77/100\n",
      "87/87 [==============================] - 0s 6ms/step - loss: 6.5354e-04\n",
      "Epoch 78/100\n",
      "87/87 [==============================] - 0s 6ms/step - loss: 8.0579e-04\n",
      "Epoch 79/100\n",
      "87/87 [==============================] - 0s 6ms/step - loss: 7.2303e-04\n",
      "Epoch 80/100\n",
      "87/87 [==============================] - 1s 6ms/step - loss: 7.8047e-04\n",
      "Epoch 81/100\n",
      "87/87 [==============================] - 0s 6ms/step - loss: 6.9943e-04\n",
      "Epoch 82/100\n",
      "87/87 [==============================] - 0s 6ms/step - loss: 7.1952e-04\n",
      "Epoch 83/100\n",
      "87/87 [==============================] - 0s 6ms/step - loss: 6.8535e-04\n",
      "Epoch 84/100\n",
      "87/87 [==============================] - 0s 6ms/step - loss: 6.2209e-04\n",
      "Epoch 85/100\n",
      "87/87 [==============================] - 0s 6ms/step - loss: 6.3194e-04\n",
      "Epoch 86/100\n",
      "87/87 [==============================] - 1s 6ms/step - loss: 6.6710e-04\n",
      "Epoch 87/100\n",
      "87/87 [==============================] - 1s 6ms/step - loss: 7.2701e-04\n",
      "Epoch 88/100\n",
      "87/87 [==============================] - 1s 7ms/step - loss: 7.8424e-04\n",
      "Epoch 89/100\n",
      "87/87 [==============================] - 1s 6ms/step - loss: 6.6156e-04\n",
      "Epoch 90/100\n",
      "87/87 [==============================] - 0s 5ms/step - loss: 6.5150e-04\n",
      "Epoch 91/100\n",
      "87/87 [==============================] - 0s 5ms/step - loss: 6.0518e-04\n",
      "Epoch 92/100\n",
      "87/87 [==============================] - 0s 6ms/step - loss: 6.3376e-04\n",
      "Epoch 93/100\n",
      "87/87 [==============================] - 0s 6ms/step - loss: 6.9516e-04\n",
      "Epoch 94/100\n",
      "87/87 [==============================] - 0s 5ms/step - loss: 6.2339e-04\n",
      "Epoch 95/100\n",
      "87/87 [==============================] - 0s 6ms/step - loss: 6.8731e-04\n",
      "Epoch 96/100\n",
      "87/87 [==============================] - 0s 6ms/step - loss: 6.1762e-04\n",
      "Epoch 97/100\n",
      "87/87 [==============================] - 0s 6ms/step - loss: 6.6134e-04\n",
      "Epoch 98/100\n",
      "87/87 [==============================] - 1s 6ms/step - loss: 6.9369e-04\n",
      "Epoch 99/100\n",
      "87/87 [==============================] - 1s 6ms/step - loss: 6.4222e-04\n",
      "Epoch 100/100\n",
      "87/87 [==============================] - 1s 6ms/step - loss: 6.2700e-04\n"
     ]
    },
    {
     "data": {
      "text/plain": [
       "<keras.src.callbacks.History at 0x2c83bf83410>"
      ]
     },
     "execution_count": 331,
     "metadata": {},
     "output_type": "execute_result"
    }
   ],
   "source": [
    "model.compile(loss=\"mean_squared_error\", optimizer = \"adam\")\n",
    "\n",
    "model.fit(X_train, y_train, epochs = 100, batch_size = 20\n",
    "         \n",
    "         \n",
    "         \n",
    "         \n",
    "         \n",
    "         \n",
    "         \n",
    "         \n",
    "         \n",
    "         \n",
    "         \n",
    "         \n",
    "         \n",
    "         \n",
    "         \n",
    "         \n",
    "         \n",
    "         \n",
    "         \n",
    "         \n",
    "         \n",
    "        )"
   ]
  },
  {
   "cell_type": "code",
   "execution_count": 332,
   "id": "bf890cb1-27e4-4cbb-82a8-2652dda6dba6",
   "metadata": {
    "tags": []
   },
   "outputs": [
    {
     "name": "stdout",
     "output_type": "stream",
     "text": [
      "55/55 [==============================] - 2s 3ms/step\n",
      "23/23 [==============================] - 0s 3ms/step\n"
     ]
    }
   ],
   "source": [
    "train_pred = model.predict(X_train)\n",
    "test_pred = model.predict(X_test)"
   ]
  },
  {
   "cell_type": "code",
   "execution_count": 333,
   "id": "4c4bbe81-5a6e-4bbe-a919-f6685789e270",
   "metadata": {
    "tags": []
   },
   "outputs": [],
   "source": [
    "train_pred = scaler.inverse_transform(train_pred)\n",
    "test_pred = scaler.inverse_transform(test_pred)"
   ]
  },
  {
   "cell_type": "code",
   "execution_count": 334,
   "id": "953bae7c-a416-46bc-96b7-878991558d72",
   "metadata": {
    "tags": []
   },
   "outputs": [],
   "source": [
    "y_train = scaler.inverse_transform(y_train)\n",
    "y_test = scaler.inverse_transform(y_test)"
   ]
  },
  {
   "cell_type": "code",
   "execution_count": 335,
   "id": "5ecf4050-a895-4fb3-811d-ce210eba3fe6",
   "metadata": {
    "tags": []
   },
   "outputs": [
    {
     "name": "stdout",
     "output_type": "stream",
     "text": [
      "rmse train hatası 1.1338387\n",
      "rmse test hatası 2.6330023\n"
     ]
    }
   ],
   "source": [
    "# train hatası\n",
    "train_rmse = np.sqrt(mean_squared_error(y_train, train_pred))\n",
    "print(\"rmse train hatası\", train_rmse)\n",
    "\n",
    "# test hatası\n",
    "test_rmse = np.sqrt(mean_squared_error(y_test, test_pred))\n",
    "print(\"rmse test hatası\", test_rmse)"
   ]
  },
  {
   "cell_type": "code",
   "execution_count": null,
   "id": "3e399fa8-4702-4e8a-ba46-c1268ad53dc5",
   "metadata": {},
   "outputs": [],
   "source": []
  },
  {
   "cell_type": "code",
   "execution_count": 336,
   "id": "5636f2e5-e99f-437e-aaa8-aca13aeaa0c3",
   "metadata": {},
   "outputs": [],
   "source": [
    "test_prediction_df = pd.DataFrame(df[\"Close\"][i+timesteps:])"
   ]
  },
  {
   "cell_type": "code",
   "execution_count": 337,
   "id": "2ecd84bd-6271-4064-bfde-5453e726dd69",
   "metadata": {
    "tags": []
   },
   "outputs": [],
   "source": [
    "test_prediction_df[\"predicted\"] = test_pred"
   ]
  },
  {
   "cell_type": "code",
   "execution_count": 338,
   "id": "856a51a7-6cb7-4de1-8d5c-c172b9bbcb7a",
   "metadata": {
    "tags": []
   },
   "outputs": [
    {
     "data": {
      "text/html": [
       "<div>\n",
       "<style scoped>\n",
       "    .dataframe tbody tr th:only-of-type {\n",
       "        vertical-align: middle;\n",
       "    }\n",
       "\n",
       "    .dataframe tbody tr th {\n",
       "        vertical-align: top;\n",
       "    }\n",
       "\n",
       "    .dataframe thead th {\n",
       "        text-align: right;\n",
       "    }\n",
       "</style>\n",
       "<table border=\"1\" class=\"dataframe\">\n",
       "  <thead>\n",
       "    <tr style=\"text-align: right;\">\n",
       "      <th></th>\n",
       "      <th>Close</th>\n",
       "      <th>predicted</th>\n",
       "    </tr>\n",
       "    <tr>\n",
       "      <th>Date</th>\n",
       "      <th></th>\n",
       "      <th></th>\n",
       "    </tr>\n",
       "  </thead>\n",
       "  <tbody>\n",
       "    <tr>\n",
       "      <th>2023-11-02</th>\n",
       "      <td>127.489998</td>\n",
       "      <td>124.025810</td>\n",
       "    </tr>\n",
       "    <tr>\n",
       "      <th>2023-11-03</th>\n",
       "      <td>129.100006</td>\n",
       "      <td>124.916191</td>\n",
       "    </tr>\n",
       "    <tr>\n",
       "      <th>2023-11-06</th>\n",
       "      <td>130.250000</td>\n",
       "      <td>126.973915</td>\n",
       "    </tr>\n",
       "    <tr>\n",
       "      <th>2023-11-07</th>\n",
       "      <td>130.970001</td>\n",
       "      <td>127.930237</td>\n",
       "    </tr>\n",
       "    <tr>\n",
       "      <th>2023-11-08</th>\n",
       "      <td>131.839996</td>\n",
       "      <td>129.251511</td>\n",
       "    </tr>\n",
       "    <tr>\n",
       "      <th>2023-11-09</th>\n",
       "      <td>130.240005</td>\n",
       "      <td>130.432602</td>\n",
       "    </tr>\n",
       "    <tr>\n",
       "      <th>2023-11-10</th>\n",
       "      <td>132.589996</td>\n",
       "      <td>130.647293</td>\n",
       "    </tr>\n",
       "    <tr>\n",
       "      <th>2023-11-13</th>\n",
       "      <td>132.089996</td>\n",
       "      <td>131.801285</td>\n",
       "    </tr>\n",
       "    <tr>\n",
       "      <th>2023-11-14</th>\n",
       "      <td>133.619995</td>\n",
       "      <td>131.977341</td>\n",
       "    </tr>\n",
       "    <tr>\n",
       "      <th>2023-11-15</th>\n",
       "      <td>134.619995</td>\n",
       "      <td>133.023087</td>\n",
       "    </tr>\n",
       "    <tr>\n",
       "      <th>2023-11-16</th>\n",
       "      <td>136.929993</td>\n",
       "      <td>133.727875</td>\n",
       "    </tr>\n",
       "    <tr>\n",
       "      <th>2023-11-17</th>\n",
       "      <td>135.309998</td>\n",
       "      <td>135.361816</td>\n",
       "    </tr>\n",
       "    <tr>\n",
       "      <th>2023-11-20</th>\n",
       "      <td>136.250000</td>\n",
       "      <td>135.328217</td>\n",
       "    </tr>\n",
       "    <tr>\n",
       "      <th>2023-11-21</th>\n",
       "      <td>136.970001</td>\n",
       "      <td>135.955399</td>\n",
       "    </tr>\n",
       "    <tr>\n",
       "      <th>2023-11-22</th>\n",
       "      <td>138.490005</td>\n",
       "      <td>136.770401</td>\n",
       "    </tr>\n",
       "    <tr>\n",
       "      <th>2023-11-24</th>\n",
       "      <td>136.690002</td>\n",
       "      <td>138.418015</td>\n",
       "    </tr>\n",
       "    <tr>\n",
       "      <th>2023-11-27</th>\n",
       "      <td>136.410004</td>\n",
       "      <td>138.085220</td>\n",
       "    </tr>\n",
       "    <tr>\n",
       "      <th>2023-11-28</th>\n",
       "      <td>137.199997</td>\n",
       "      <td>137.359558</td>\n",
       "    </tr>\n",
       "    <tr>\n",
       "      <th>2023-11-29</th>\n",
       "      <td>134.990005</td>\n",
       "      <td>137.432236</td>\n",
       "    </tr>\n",
       "    <tr>\n",
       "      <th>2023-11-30</th>\n",
       "      <td>132.529999</td>\n",
       "      <td>136.063431</td>\n",
       "    </tr>\n",
       "  </tbody>\n",
       "</table>\n",
       "</div>"
      ],
      "text/plain": [
       "                 Close   predicted\n",
       "Date                              \n",
       "2023-11-02  127.489998  124.025810\n",
       "2023-11-03  129.100006  124.916191\n",
       "2023-11-06  130.250000  126.973915\n",
       "2023-11-07  130.970001  127.930237\n",
       "2023-11-08  131.839996  129.251511\n",
       "2023-11-09  130.240005  130.432602\n",
       "2023-11-10  132.589996  130.647293\n",
       "2023-11-13  132.089996  131.801285\n",
       "2023-11-14  133.619995  131.977341\n",
       "2023-11-15  134.619995  133.023087\n",
       "2023-11-16  136.929993  133.727875\n",
       "2023-11-17  135.309998  135.361816\n",
       "2023-11-20  136.250000  135.328217\n",
       "2023-11-21  136.970001  135.955399\n",
       "2023-11-22  138.490005  136.770401\n",
       "2023-11-24  136.690002  138.418015\n",
       "2023-11-27  136.410004  138.085220\n",
       "2023-11-28  137.199997  137.359558\n",
       "2023-11-29  134.990005  137.432236\n",
       "2023-11-30  132.529999  136.063431"
      ]
     },
     "execution_count": 338,
     "metadata": {},
     "output_type": "execute_result"
    }
   ],
   "source": [
    "test_prediction_df.tail(20)"
   ]
  },
  {
   "cell_type": "code",
   "execution_count": null,
   "id": "7a9297a8-5ba2-4e6b-a02f-4a0f52ffef18",
   "metadata": {},
   "outputs": [],
   "source": []
  }
 ],
 "metadata": {
  "kernelspec": {
   "display_name": "Python 3 (ipykernel)",
   "language": "python",
   "name": "python3"
  },
  "language_info": {
   "codemirror_mode": {
    "name": "ipython",
    "version": 3
   },
   "file_extension": ".py",
   "mimetype": "text/x-python",
   "name": "python",
   "nbconvert_exporter": "python",
   "pygments_lexer": "ipython3",
   "version": "3.11.4"
  }
 },
 "nbformat": 4,
 "nbformat_minor": 5
}
